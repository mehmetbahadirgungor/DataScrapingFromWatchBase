{
 "cells": [
  {
   "cell_type": "code",
   "execution_count": 112,
   "metadata": {},
   "outputs": [],
   "source": [
    "import httpx\n",
    "from bs4 import BeautifulSoup\n",
    "import numpy as np\n",
    "import pandas as pd\n",
    "import time"
   ]
  },
  {
   "cell_type": "code",
   "execution_count": 113,
   "metadata": {},
   "outputs": [],
   "source": [
    "data = []\n",
    "foreData = []"
   ]
  },
  {
   "cell_type": "code",
   "execution_count": 114,
   "metadata": {},
   "outputs": [],
   "source": [
    "link = httpx.get(\"https://watchbase.com/watches\")"
   ]
  },
  {
   "cell_type": "code",
   "execution_count": 115,
   "metadata": {},
   "outputs": [],
   "source": [
    "soup = BeautifulSoup(link.content, \"html.parser\")\n",
    "\n",
    "problems = soup.find_all(\"div\", {\"class\":\"brand-box\", \"data-letter\":\"-\"})\n",
    "families = soup.find_all(\"div\", {\"class\":\"brand-box\"})\n"
   ]
  },
  {
   "cell_type": "code",
   "execution_count": 116,
   "metadata": {},
   "outputs": [],
   "source": [
    "for problem in problems:\n",
    "    families.remove(problem)"
   ]
  },
  {
   "cell_type": "code",
   "execution_count": 117,
   "metadata": {},
   "outputs": [],
   "source": [
    "list2 = []\n",
    "for family in families:\n",
    "    # print(family.find_all(\"a\", {\"class\":\"link-color\"}))\n",
    "    list1 = list(family.find_all(\"a\", {\"class\":\"link-color\"}))\n",
    "    list1 = list1[1:]\n",
    "    for i in list1:\n",
    "        list2.append(i[\"href\"])\n",
    "\n",
    "families = list2"
   ]
  },
  {
   "cell_type": "code",
   "execution_count": null,
   "metadata": {},
   "outputs": [],
   "source": [
    "print(np.array(families))"
   ]
  },
  {
   "cell_type": "code",
   "execution_count": 119,
   "metadata": {},
   "outputs": [],
   "source": [
    "# link = httpx.get(family[0])\n",
    "# soup = BeautifulSoup(link.content, \"html.parser\")\n",
    "\n",
    "# watches0 = soup.find_all(\"a\", {\"class\":\"item-block\"})"
   ]
  },
  {
   "cell_type": "code",
   "execution_count": null,
   "metadata": {},
   "outputs": [],
   "source": [
    "watches = []\n",
    "for family in families:\n",
    "    while True:\n",
    "        link = httpx.get(family)\n",
    "        print(link.status_code)    \n",
    "        if link.status_code==200:\n",
    "            soup = BeautifulSoup(link.content, \"html.parser\")\n",
    "\n",
    "            watches0 = soup.find_all(\"a\", {\"class\":\"item-block\"})\n",
    "\n",
    "            list3 = []\n",
    "            for watch in watches0:\n",
    "                list3.append(watch[\"href\"])\n",
    "\n",
    "            watches.append(list3)\n",
    "            time.sleep(0.25)\n",
    "            break\n",
    "        time.sleep(1)"
   ]
  },
  {
   "cell_type": "code",
   "execution_count": null,
   "metadata": {},
   "outputs": [],
   "source": [
    "watches"
   ]
  },
  {
   "cell_type": "code",
   "execution_count": null,
   "metadata": {},
   "outputs": [],
   "source": [
    "limit = np.sum(watch.__len__() for watch in watches)"
   ]
  },
  {
   "cell_type": "code",
   "execution_count": null,
   "metadata": {},
   "outputs": [],
   "source": [
    "abc = 1\n",
    "for watch0 in watches:\n",
    "        for watchLinks in watch0:\n",
    "            while True:\n",
    "                link = httpx.get(watchLinks)\n",
    "                soup = BeautifulSoup(link.content, \"html.parser\")\n",
    "                print(link.status_code)\n",
    "                if link.status_code==200:\n",
    "                    watchsFeatures = soup.find_all(\"td\")\n",
    "                    watchesFeaturesNames = soup.find_all(\"th\")\n",
    "\n",
    "                    features = {\"Brand\": \"\",\"Family\": \"\",\"Reference\": \"\",\"Name\": \"\",\"Movement\": \"\",\"Produced\": \"\",\"Limited\": \"\",\"Material\": \"\",\"Glass\": \"\",\"Back\": \"\",\"Shape\": \"\",\"Diameter\": \"\",\"Height\": \"\",\"Lug Width\": \"\",\"Color\": \"\", \"Indexes\": \"\",\"Hands\": \"\", \"Bezel\": \"\"}\n",
    "\n",
    "                    i = 0\n",
    "                    while i < watchsFeatures.__len__():\n",
    "                        features[f\"{watchesFeaturesNames[i].text.strip()[:-1]}\"] = watchsFeatures[i].text.strip()\n",
    "                        i += 1\n",
    "\n",
    "                    watchFeatures = features\n",
    "\n",
    "                    foreData.append(watchFeatures)\n",
    "                    print(watchFeatures)\n",
    "                    print(watchFeatures.__len__())\n",
    "                    print(\"%\" + f\"{(abc/limit)*100}\"[0:4] + f\" ({abc}/{limit})\")\n",
    "                    abc += 1\n",
    "                    time.sleep(0.5)\n",
    "                    break\n",
    "                time.sleep(1)"
   ]
  },
  {
   "cell_type": "code",
   "execution_count": null,
   "metadata": {},
   "outputs": [],
   "source": [
    "data = pd.DataFrame(foreData)\n",
    "data.head()"
   ]
  },
  {
   "cell_type": "code",
   "execution_count": 125,
   "metadata": {},
   "outputs": [],
   "source": [
    "data.to_csv(\"watchesoriginal.csv\")"
   ]
  }
 ],
 "metadata": {
  "kernelspec": {
   "display_name": "Python 3",
   "language": "python",
   "name": "python3"
  },
  "language_info": {
   "codemirror_mode": {
    "name": "ipython",
    "version": 3
   },
   "file_extension": ".py",
   "mimetype": "text/x-python",
   "name": "python",
   "nbconvert_exporter": "python",
   "pygments_lexer": "ipython3",
   "version": "3.11.5"
  },
  "orig_nbformat": 4
 },
 "nbformat": 4,
 "nbformat_minor": 2
}
